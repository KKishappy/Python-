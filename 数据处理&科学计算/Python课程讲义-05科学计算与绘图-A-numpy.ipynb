{
 "cells": [
  {
   "cell_type": "markdown",
   "metadata": {},
   "source": [
    "# 科学计算模块numpy与绘图模块matplotlib基础\n",
    "\n",
    "Y.Z. 2022.11.10 更新\n",
    "相关链接:\n",
    "\n",
    "* Python 科学计算基础 （整理）: https://blog.csdn.net/liang890319/article/details/52061351\n",
    "\n",
    "* 用Python做科学计算: https://docs.huihoo.com/scipy/scipy-zh-cn/index.html\n",
    "\n",
    "* 用Python做科学计算(链接丰富) https://zhuanlan.zhihu.com/Scientific-Computing\n",
    "\n",
    "* # 与数组操作有关的模块快速入门-numpy"
   ]
  },
  {
   "cell_type": "markdown",
   "metadata": {},
   "source": [
    "* random\n",
    "* numpy,numpy.random\n",
    "* pandas\n",
    "* torch\n",
    "\n",
    "\n",
    "## 产生随机数\n",
    "\n"
   ]
  },
  {
   "cell_type": "code",
   "execution_count": 1,
   "metadata": {},
   "outputs": [
    {
     "name": "stdout",
     "output_type": "stream",
     "text": [
      "v=\n",
      "[0.75074834 0.58117286 0.74296301 0.78122893 0.4956058  0.3693099\n",
      " 0.18765146 0.65493205 0.55559754 0.82649142]\n"
     ]
    }
   ],
   "source": [
    "import numpy as np\n",
    "v = np.random.rand(10)\n",
    "print('v=')\n",
    "print(v)"
   ]
  },
  {
   "cell_type": "code",
   "execution_count": 2,
   "metadata": {},
   "outputs": [
    {
     "name": "stdout",
     "output_type": "stream",
     "text": [
      "M=\n",
      "[[0.7092294  0.65510632 0.4231375  0.59477862 0.64945466]\n",
      " [0.20109658 0.6401718  0.62761572 0.95578684 0.65320921]]\n",
      "M.shape dd\n",
      "(2, 5)\n"
     ]
    }
   ],
   "source": [
    "# 使用numpy模块中的数组\n",
    "import numpy as np\n",
    "M = np.random.rand(2,5)\n",
    "print('M=')\n",
    "print(M)\n",
    "print('M.shape dd')\n",
    "print(M.shape)"
   ]
  },
  {
   "cell_type": "markdown",
   "metadata": {},
   "source": [
    "### 创建数组"
   ]
  },
  {
   "cell_type": "code",
   "execution_count": 6,
   "metadata": {},
   "outputs": [
    {
     "name": "stdout",
     "output_type": "stream",
     "text": [
      "m1=\n",
      "[[1. 1. 1.]\n",
      " [1. 1. 1.]\n",
      " [1. 1. 1.]]\n",
      "m2\n",
      "[[0 0 0]\n",
      " [0 0 0]]\n",
      "m3= [0 1 2 3 4 5 6 7 8 9]\n",
      "m4= [0. 1. 2. 3. 4. 5. 6.]\n",
      "m5=\n",
      "[[1. 0. 0. 0. 0. 0.]\n",
      " [0. 1. 0. 0. 0. 0.]\n",
      " [0. 0. 1. 0. 0. 0.]\n",
      " [0. 0. 0. 1. 0. 0.]\n",
      " [0. 0. 0. 0. 1. 0.]\n",
      " [0. 0. 0. 0. 0. 1.]]\n"
     ]
    }
   ],
   "source": [
    "# 3x3的浮点型2维数组，并且初始化所有元素值为1\n",
    "m1 = np.ones((3, 3), dtype=np.float64)\n",
    "print('m1=')\n",
    "print(m1)\n",
    "# 2x2x3的无符号8位整型3维数组，并且初始化所有元素值为0\n",
    "m2 = np.zeros((2, 3), dtype=np.uint8)\n",
    "print('m2')\n",
    "print(m2)\n",
    "m3 = np.arange(10)      \n",
    "print('m3=',m3)\n",
    "m4 = np.linspace(0, 6, 7)# 等差数列\n",
    "print('m4=',m4)\n",
    "m5 = np.eye(6, dtype=np.float64)\n",
    "print('m5=')\n",
    "print(m5)"
   ]
  },
  {
   "cell_type": "markdown",
   "metadata": {},
   "source": [
    "## 常用统计函数示例\n",
    "\n",
    "### 一维数组的统计操作"
   ]
  },
  {
   "cell_type": "code",
   "execution_count": 7,
   "metadata": {},
   "outputs": [
    {
     "name": "stdout",
     "output_type": "stream",
     "text": [
      "type(b)= <class 'numpy.ndarray'>\n",
      "shape  (6,)\n",
      "argmax 最大值索引 2\n",
      "max    最大值 9\n",
      "mean   平均值 5.833333333333333\n"
     ]
    }
   ],
   "source": [
    "import numpy as np\n",
    "\n",
    "a = [6, 4, 9, 7, 1, 8]    #\n",
    "b = np.array(a)     # 根据列表转为numpy数组\n",
    "print('type(b)=',type(b)) \n",
    "\n",
    "print('shape ',b.shape) \n",
    "print('argmax 最大值索引',b.argmax()) \n",
    "print('max    最大值',b.max())   \n",
    "print('mean   平均值',b.mean() ) "
   ]
  },
  {
   "cell_type": "markdown",
   "metadata": {},
   "source": [
    "### 二维数组的统计操作"
   ]
  },
  {
   "cell_type": "code",
   "execution_count": 8,
   "metadata": {},
   "outputs": [
    {
     "name": "stdout",
     "output_type": "stream",
     "text": [
      "d =\n",
      "[[ 3  9  1 10]\n",
      " [ 7  4  6  0]\n",
      " [ 8  3  5  9]]\n",
      "shape  (3, 4)\n",
      "size   12\n",
      "argmax 每列最大值的行索引 [2 0 1 0]\n",
      "argmax 每行最大值的列索引 [3 0 3]\n",
      "max  每列最大值  [ 8  9  6 10]\n",
      "max  每行最大值  [10  7  9]\n",
      "mean 每列平均值 [6.         5.33333333 4.         6.33333333]\n"
     ]
    }
   ],
   "source": [
    "c = [[3, 9,1,10], [7, 4,6,0],[8,3,5,9]]    # 二维列表\n",
    "d = np.array(c)         # 二维numpy数组\n",
    "print('d =')\n",
    "print(d)\n",
    "print('shape ',d.shape)           \n",
    "print('size  ',d.size )          \n",
    "print('argmax 每列最大值的行索引',d.argmax(axis=0)) \n",
    "print('argmax 每行最大值的列索引',d.argmax(axis=1)) \n",
    "print('max  每列最大值 ',d.max(axis=0))\n",
    "print('max  每行最大值 ',d.max(axis=1))\n",
    "print('mean 每列平均值',d.mean(axis=0))"
   ]
  },
  {
   "cell_type": "code",
   "execution_count": 9,
   "metadata": {},
   "outputs": [
    {
     "name": "stdout",
     "output_type": "stream",
     "text": [
      "d =\n",
      "[[ 3  9  1 10]\n",
      " [ 7  4  6  0]\n",
      " [ 8  3  5  9]]\n",
      "每列求和:\n",
      "[18 16 12 19]\n",
      "每行求和:\n",
      "[23 17 25]\n"
     ]
    }
   ],
   "source": [
    "d = np.array([[3, 9,1,10], [7, 4,6,0],[8,3,5,9]])         # 二维numpy数组\n",
    "print('d =')\n",
    "print(d)\n",
    "print('每列求和:')\n",
    "print(d.sum(axis=0))\n",
    "print('每行求和:')\n",
    "print(d.sum(axis=1))"
   ]
  },
  {
   "cell_type": "markdown",
   "metadata": {},
   "source": [
    "\n",
    "numpy中的ravel()、flatten()、squeeze()都有将多维数组转换为一维数组的功能：\n",
    "\n",
    "* ravel()：如果没有必要，不会产生源数据的副本\n",
    "* flatten()：返回源数据的副本\n",
    "* squeeze()：只能对维数为1的维度降维\n",
    "* reshape(-1)也可以“拉平”多维数组\n"
   ]
  },
  {
   "cell_type": "code",
   "execution_count": 10,
   "metadata": {},
   "outputs": [
    {
     "name": "stdout",
     "output_type": "stream",
     "text": [
      "flatten \n",
      "[ 3  9  1 10  7  4  6  0  8  3  5  9]\n",
      "ravel \n",
      "[ 3  9  1 10  7  4  6  0  8  3  5  9]\n",
      "reshape \n",
      "[ 3  9  1 10  7  4  6  0  8  3  5  9]\n"
     ]
    }
   ],
   "source": [
    "c = [[3, 9,1,10], [7, 4,6,0],[8,3,5,9]]    # 二维列表\n",
    "d = np.array(c)         # 二维numpy数组\n",
    "r1 = d.flatten()             # 展开一个numpy数组为1维数组，array([1, 2, 3, 4])\n",
    "r2 = np.ravel(d)             # 展开一个可以解析的结构为1维数组，array([1, 2, 3, 4])\n",
    "print('flatten ')\n",
    "print(r1)\n",
    "#print('d=',d) # d不发生变化\n",
    "print('ravel ')\n",
    "print(r2)\n",
    "#print('d=',d)# d不发生变化\n",
    "r3 = d.reshape(-1)          \n",
    "print('reshape ')\n",
    "print(r3)\n"
   ]
  },
  {
   "cell_type": "code",
   "execution_count": 11,
   "metadata": {},
   "outputs": [
    {
     "name": "stdout",
     "output_type": "stream",
     "text": [
      "squeeze \n",
      "[3 5 2 9 7]\n",
      "squeeze \n",
      "[3 5 2 9 7]\n"
     ]
    }
   ],
   "source": [
    "v=[[3,5,2,9,7]]\n",
    "r1 = np.squeeze(v)          \n",
    "print('squeeze ')\n",
    "print(r1)\n",
    "\n",
    "v=[[3],[5],[2],[9],[7]]\n",
    "r2 = np.squeeze(v)          \n",
    "print('squeeze ')\n",
    "print(r2)"
   ]
  },
  {
   "cell_type": "markdown",
   "metadata": {},
   "source": [
    "## 数据的重复相关处理函数"
   ]
  },
  {
   "cell_type": "code",
   "execution_count": 12,
   "metadata": {},
   "outputs": [
    {
     "name": "stdout",
     "output_type": "stream",
     "text": [
      "r1 \n",
      "[3 3 3 3]\n",
      "r2 \n",
      "[3 3 3 3]\n",
      "r3 \n",
      "[3 3 3 3 1 1 1 1 2 2 2 2]\n"
     ]
    }
   ],
   "source": [
    "# 创建一个一维数组，元素值是把3重复4次，array([3, 3, 3, 3])\n",
    "import numpy as np\n",
    "r1 = np.repeat(3, 4)\n",
    "print('r1 ')\n",
    "print(r1)\n",
    "r2 = np.repeat([3], 4)\n",
    "print('r2 ')\n",
    "print(r2)\n",
    "r3 = np.repeat([3,1,2], 4)\n",
    "print('r3 ')\n",
    "print(r3)"
   ]
  },
  {
   "cell_type": "markdown",
   "metadata": {},
   "source": [
    "### tile类似于Matlab中的repmat函数"
   ]
  },
  {
   "cell_type": "code",
   "execution_count": 13,
   "metadata": {},
   "outputs": [
    {
     "name": "stdout",
     "output_type": "stream",
     "text": [
      "r4 \n",
      "[3 3 3 3 1 1 1 1 2 2 2 2]\n",
      "r5 \n",
      "[[3 1 2 3 1 2 3 1 2 3 1 2]]\n",
      "r5 type: (1, 12)\n",
      "r6 \n",
      "[[3 1 2]\n",
      " [3 1 2]\n",
      " [3 1 2]\n",
      " [3 1 2]]\n"
     ]
    }
   ],
   "source": [
    "import numpy as np\n",
    "r4 = np.repeat([3,1,2],(4))\n",
    "print('r4 ')\n",
    "print(r4)\n",
    "r5 = np.tile([3,1,2],(1,4))\n",
    "print('r5 ')\n",
    "print(r5)\n",
    "print('r5 type:',r5.shape)\n",
    "r6= np.tile([3,1,2],(4,1))\n",
    "print('r6 ')\n",
    "print(r6)"
   ]
  },
  {
   "cell_type": "markdown",
   "metadata": {},
   "source": [
    "* 从后面往前面遍历元组(2,3)。先将a复制3次，然后将复制后的结果保存到a=[0, 1, 2, 0, 1, 2, 0, 1, 2]。\n",
    "    再复制2次。得到目标数组。"
   ]
  },
  {
   "cell_type": "code",
   "execution_count": 14,
   "metadata": {},
   "outputs": [
    {
     "name": "stdout",
     "output_type": "stream",
     "text": [
      "r=\n",
      " [[0 1 2 0 1 2 0 1 2]\n",
      " [0 1 2 0 1 2 0 1 2]]\n"
     ]
    }
   ],
   "source": [
    "a = np.array([0,1,2])\n",
    "r = np.tile(a,(2,3))\n",
    "print(\"r=\\n\",r)"
   ]
  },
  {
   "cell_type": "markdown",
   "metadata": {},
   "source": [
    "* 从后面往前遍历元组(3,1)，先将a复制1次，然后将复制的结果保存到a。再复制3次。\n"
   ]
  },
  {
   "cell_type": "code",
   "execution_count": null,
   "metadata": {},
   "outputs": [],
   "source": [
    "r=np.tile(a,(3,1))\n",
    "print(\"r=\\n\",r)"
   ]
  },
  {
   "cell_type": "markdown",
   "metadata": {},
   "source": [
    "### 数据类型转换"
   ]
  },
  {
   "cell_type": "code",
   "execution_count": null,
   "metadata": {},
   "outputs": [],
   "source": [
    "m = np.array([[1.5,2.7,3.8],[2.4,6.2,7.9]])\n",
    "h = m.astype(np.float)  # 用另一种类型表示\n",
    "print('m=',m)\n",
    "print('h=',h)"
   ]
  },
  {
   "cell_type": "markdown",
   "metadata": {},
   "source": [
    "### 数据保存"
   ]
  },
  {
   "cell_type": "code",
   "execution_count": 15,
   "metadata": {},
   "outputs": [
    {
     "name": "stdout",
     "output_type": "stream",
     "text": [
      "p=\n",
      "[[1 2 3 4]\n",
      " [5 6 7 8]]\n",
      "q=\n",
      "[[1 2 3 4]\n",
      " [5 6 7 8]]\n"
     ]
    }
   ],
   "source": [
    "p = np.array(  [[1, 2, 3, 4],    [5, 6, 7, 8]])\n",
    " \n",
    "np.save('p.npy', p)     # 保存到文件\n",
    "q = np.load('p.npy')    # 从文件读取\n",
    "print('p=')\n",
    "print(p)\n",
    "print('q=')\n",
    "print(q)"
   ]
  },
  {
   "cell_type": "markdown",
   "metadata": {},
   "source": [
    "### 切片与子阵"
   ]
  },
  {
   "cell_type": "code",
   "execution_count": 16,
   "metadata": {},
   "outputs": [
    {
     "name": "stdout",
     "output_type": "stream",
     "text": [
      "m=\n",
      "[[ 0  1  2  3  4  5  6  7]\n",
      " [ 8  9 10 11 12 13 14 15]\n",
      " [16 17 18 19 20 21 22 23]\n",
      " [24 25 26 27 28 29 30 31]]\n",
      "m1=\n",
      " [[ 7  6  5  4  3  2  1  0]\n",
      " [15 14 13 12 11 10  9  8]\n",
      " [23 22 21 20 19 18 17 16]\n",
      " [31 30 29 28 27 26 25 24]]\n",
      "m2=\n",
      " [[24 25 26 27 28 29 30 31]\n",
      " [16 17 18 19 20 21 22 23]\n",
      " [ 8  9 10 11 12 13 14 15]\n",
      " [ 0  1  2  3  4  5  6  7]]\n"
     ]
    }
   ],
   "source": [
    "m = np.arange(32)\n",
    "m = np.reshape(m,(4,8))\n",
    "print('m=')\n",
    "print(m)\n",
    "m1 = m[:,::-1] #类似matlab, fliplr--列颠倒放置得到的矩阵\n",
    "print('m1=\\n',m1)\n",
    "m2= m[::-1,:] #类似matlab, flipud--列颠倒放置得到的矩阵\n",
    "print('m2=\\n',m2)"
   ]
  },
  {
   "cell_type": "markdown",
   "metadata": {},
   "source": [
    "## 数组的拼接"
   ]
  },
  {
   "cell_type": "code",
   "execution_count": 17,
   "metadata": {},
   "outputs": [
    {
     "name": "stdout",
     "output_type": "stream",
     "text": [
      "[[0 1 2]\n",
      " [3 4 5]]\n",
      "[[ 6  7  8]\n",
      " [ 9 10 11]]\n",
      "m1 row_stack:\n",
      "[[ 0  1  2]\n",
      " [ 3  4  5]\n",
      " [ 6  7  8]\n",
      " [ 9 10 11]]\n",
      "m2 column_stack:\n",
      "[[ 0  1  2  6  7  8]\n",
      " [ 3  4  5  9 10 11]]\n",
      "m3 dstack:\n",
      "[[[ 0  6]\n",
      "  [ 1  7]\n",
      "  [ 2  8]]\n",
      "\n",
      " [[ 3  9]\n",
      "  [ 4 10]\n",
      "  [ 5 11]]]\n"
     ]
    }
   ],
   "source": [
    "\n",
    "import numpy as np\n",
    "l0 = np.arange(6).reshape((2, 3))\n",
    "l1 = np.arange(6, 12).reshape((2, 3))\n",
    "print(l0)\n",
    "print(l1)\n",
    "\n",
    "m1 = np.row_stack((l0, l1)) # 同vstack\n",
    "m2 = np.column_stack((l0, l1)) # 同hstack\n",
    "m3 = np.dstack((l0, l1)) # \n",
    "print('m1 row_stack:')\n",
    "print(m1)\n",
    "print('m2 column_stack:')\n",
    "print(m2)\n",
    "print('m3 dstack:')\n",
    "print(m3)\n",
    "\n"
   ]
  },
  {
   "cell_type": "code",
   "execution_count": 18,
   "metadata": {},
   "outputs": [
    {
     "name": "stdout",
     "output_type": "stream",
     "text": [
      "m1 vstack:\n",
      "[[ 0  1  2]\n",
      " [ 3  4  5]\n",
      " [ 6  7  8]\n",
      " [ 9 10 11]]\n",
      "m2 hstack:\n",
      "[[ 0  1  2  6  7  8]\n",
      " [ 3  4  5  9 10 11]]\n",
      "u1=\n",
      "[[ 0  1  2]\n",
      " [ 3  4  5]\n",
      " [ 6  7  8]\n",
      " [ 9 10 11]]\n",
      "u2=\n",
      "[[ 0  1  2  6  7  8]\n",
      " [ 3  4  5  9 10 11]]\n",
      "m3 stack:\n",
      "[[[ 0  1  2]\n",
      "  [ 3  4  5]]\n",
      "\n",
      " [[ 6  7  8]\n",
      "  [ 9 10 11]]]\n"
     ]
    }
   ],
   "source": [
    "# vstack是指沿着纵轴拼接两个array, vertical\n",
    "# hstack是指沿着横轴拼接两个array, horizontal\n",
    "m1 = np.vstack((l0, l1))\n",
    "m2 = np.hstack((l0, l1))\n",
    "print('m1 vstack:')\n",
    "print(m1)\n",
    "print('m2 hstack:')\n",
    "print(m2)\n",
    "u1 = np.concatenate((l0,l1),axis=0)\n",
    "u2 = np.concatenate((l0,l1),axis=1)\n",
    "# 可以参考: https://www.cnblogs.com/shueixue/p/10953699.html\n",
    "print('u1=')\n",
    "print(u1)\n",
    "print('u2=')\n",
    "print(u2)\n",
    "m3 = np.stack((l0, l1))\n",
    "print('m3 stack:')\n",
    "print(m3)\n",
    "print(m3.shape)"
   ]
  },
  {
   "cell_type": "markdown",
   "metadata": {},
   "source": [
    "Numpy中stack()，hstack()，vstack()函数详解\n",
    "https://blog.csdn.net/csdn15698845876/article/details/73380803/\n",
    "\n",
    "\n",
    "## 矩阵的变形"
   ]
  },
  {
   "cell_type": "code",
   "execution_count": 19,
   "metadata": {},
   "outputs": [
    {
     "name": "stdout",
     "output_type": "stream",
     "text": [
      "u=\n",
      "[[ 6  7  8]\n",
      " [ 9 10 11]]\n",
      "t1=\n",
      "[[ 8 11]\n",
      " [ 7 10]\n",
      " [ 6  9]]\n",
      "t2=\n",
      "[[ 8  7  6]\n",
      " [11 10  9]]\n",
      "t3=\n",
      "[[ 9 10 11]\n",
      " [ 6  7  8]]\n",
      "y=\n",
      "[[11  6  7]\n",
      " [ 8  9 10]]\n",
      "y transpose\n",
      "[[11  8]\n",
      " [ 6  9]\n",
      " [ 7 10]]\n"
     ]
    }
   ],
   "source": [
    "u=np.arange(6,12).reshape(2,3)\n",
    "print('u=')\n",
    "print(u)\n",
    "t1 = np.rot90(u, 1)\n",
    "t2 = np.fliplr(u)\n",
    "t3 = np.flipud(u)\n",
    "print('t1=');print(t1)\n",
    "print('t2=');print(t2)\n",
    "print('t3=');print(t3)\n",
    "\n",
    "y = np.roll(u, 1)\n",
    "print('y=');print(y)\n",
    "print('y transpose'); print(y.transpose())"
   ]
  },
  {
   "cell_type": "markdown",
   "metadata": {},
   "source": [
    "## 矩阵的切分split\n",
    "\n",
    "```text\n",
    "1、split(ary, indices_or_sections, axis=0)\n",
    "把一个数组从左到右按顺序切分 \n",
    "参数： \n",
    "ary:要切分的数组 \n",
    "indices_or_sections:如果是一个整数，就用该数平均切分，如果是一个数组，为沿轴切分的位置（左开右闭） \n",
    "axis：沿着哪个维度进行切向，默认为0，横向切分。为1时，纵向切分\n",
    "参考:https://blog.csdn.net/mingyuli/article/details/81227629\n",
    "```\n"
   ]
  },
  {
   "cell_type": "markdown",
   "metadata": {},
   "source": [
    "​"
   ]
  },
  {
   "cell_type": "code",
   "execution_count": 21,
   "metadata": {},
   "outputs": [
    {
     "name": "stdout",
     "output_type": "stream",
     "text": [
      "u1=\n",
      "[array([0., 1., 2.]), array([3., 4., 5.]), array([6., 7., 8.])]\n",
      "<class 'list'> <class 'numpy.ndarray'> <class 'numpy.ndarray'>\n"
     ]
    }
   ],
   "source": [
    "# x是一个行数组的情形\n",
    "x = np.arange(9.0)\n",
    "u1=np.split(x, 3) # 返回的是一个list对象\n",
    "print('u1='); print(u1)\n",
    "print(type(u1),type(u1[0]),type(u1[1]))\n"
   ]
  },
  {
   "cell_type": "code",
   "execution_count": 22,
   "metadata": {},
   "outputs": [
    {
     "name": "stdout",
     "output_type": "stream",
     "text": [
      "u2=\n",
      "[array([0., 1., 2.]), array([3., 4.]), array([5.]), array([6., 7.]), array([], dtype=float64)]\n"
     ]
    }
   ],
   "source": [
    "# x是一个行数组的情形\n",
    "x = np.arange(8.0)\n",
    "u2 = np.split(x, [3, 5, 6, 10])\n",
    "print('u2='); print(u2)"
   ]
  },
  {
   "cell_type": "code",
   "execution_count": null,
   "metadata": {},
   "outputs": [],
   "source": [
    "```python\n",
    "\n",
    "```\n",
    "\n",
    "    u2=\n",
    "    [array([0., 1., 2.]), array([3., 4.]), array([5.]), array([6., 7.]), array([], dtype=float64)]\n"
   ]
  },
  {
   "cell_type": "code",
   "execution_count": 23,
   "metadata": {},
   "outputs": [
    {
     "name": "stdout",
     "output_type": "stream",
     "text": [
      "t1=\n",
      "[array([0., 1., 2.]), array([3., 4., 5., 6., 7.])]\n",
      "x=\n",
      "[0. 1. 2. 3.]\n",
      "y=\n",
      "[4. 5. 6. 7.]\n"
     ]
    }
   ],
   "source": [
    "#（3，）的用法\n",
    "# 参考: https://blog.csdn.net/mingyuli/article/details/81227629\n",
    "m = np.arange(8.0)\n",
    "t1 = np.split(m, (3,))\n",
    "print('t1='); print(t1)\n",
    " \n",
    "#结果：[array([0., 1., 2.]), array([3., 4., 5., 6., 7.])]\n",
    " \n",
    "#机器学习中的用法解释：\n",
    "#axis=1,代表列，是要把data数据集中的所有数据按第四、五列之间分割为X集和Y集。\n",
    "x, y = np.split(m, (4,),axis=0) \n",
    "print('x='); print(x)\n",
    "print('y='); print(y)"
   ]
  },
  {
   "cell_type": "code",
   "execution_count": 24,
   "metadata": {},
   "outputs": [
    {
     "name": "stdout",
     "output_type": "stream",
     "text": [
      "[[ 0  1  2  3]\n",
      " [ 4  5  6  7]\n",
      " [ 8  9 10 11]]\n",
      "m1=\n",
      "[array([[0, 1],\n",
      "       [4, 5],\n",
      "       [8, 9]]), array([[ 2,  3],\n",
      "       [ 6,  7],\n",
      "       [10, 11]])]\n",
      "m2=\n",
      "[array([[0, 1, 2, 3]]), array([[4, 5, 6, 7]]), array([[ 8,  9, 10, 11]])]\n",
      "<class 'list'> <class 'list'>\n"
     ]
    }
   ],
   "source": [
    "# Test 1\n",
    "A = np.arange(12).reshape(3, 4)\n",
    "print( A)\n",
    " \n",
    "# 纵向分割, 分成两部分, 按列分割\n",
    "m1 = np.split(A, 2, axis = 1) # 好像要均分才行.\n",
    "# 横向分割, 分成三部分, 按行分割\n",
    "m2 = np.split(A, 3, axis = 0)\n",
    "print('m1='); print(m1)\n",
    "print('m2='); print(m2)\n",
    "print(type(m1),type(m2)) # 返回结果为list对象"
   ]
  },
  {
   "cell_type": "code",
   "execution_count": 25,
   "metadata": {},
   "outputs": [
    {
     "name": "stdout",
     "output_type": "stream",
     "text": [
      "[[ 0  1  2  3]\n",
      " [ 4  5  6  7]\n",
      " [ 8  9 10 11]]\n",
      "vsplit:\n",
      "[array([[0, 1, 2, 3]]), array([[4, 5, 6, 7]]), array([[ 8,  9, 10, 11]])]\n",
      "hsplit:\n",
      "[array([[0, 1],\n",
      "       [4, 5],\n",
      "       [8, 9]]), array([[ 2,  3],\n",
      "       [ 6,  7],\n",
      "       [10, 11]])]\n"
     ]
    }
   ],
   "source": [
    "A = np.arange(12).reshape(3, 4)\n",
    "print( A)\n",
    "print('vsplit:')\n",
    "print(np.vsplit(A, 3))\n",
    "# 水平方向分割\n",
    "print('hsplit:')\n",
    "print( np.hsplit(A, 2))"
   ]
  },
  {
   "cell_type": "markdown",
   "metadata": {},
   "source": [
    "### array_split可以实现不均等划分"
   ]
  },
  {
   "cell_type": "markdown",
   "metadata": {},
   "source": [
    "​"
   ]
  },
  {
   "cell_type": "code",
   "execution_count": 26,
   "metadata": {},
   "outputs": [
    {
     "name": "stdout",
     "output_type": "stream",
     "text": [
      "array_split:\n",
      "[array([0., 1., 2.]), array([3., 4., 5.]), array([6., 7.])]\n"
     ]
    }
   ],
   "source": [
    "import numpy as np\n",
    "x = np.arange(8.0)\n",
    "print('array_split:'); print( np.array_split(x,3) )\n",
    "# print('      split:'); print(np.split(x,3)) # 报错\n"
   ]
  },
  {
   "cell_type": "markdown",
   "metadata": {},
   "source": [
    "​"
   ]
  },
  {
   "cell_type": "code",
   "execution_count": null,
   "metadata": {},
   "outputs": [],
   "source": [
    "x = np.arange(24).reshape(6,4)\n",
    "m = np.array_split(x,4)\n",
    "\n",
    "print('source matrix:'); print(x)\n",
    "print('array_split:'); print(m )\n",
    "print(type(m))\n"
   ]
  },
  {
   "cell_type": "markdown",
   "metadata": {},
   "source": [
    "​"
   ]
  },
  {
   "cell_type": "code",
   "execution_count": 7,
   "metadata": {},
   "outputs": [
    {
     "name": "stdout",
     "output_type": "stream",
     "text": [
      "[[9 0 3 4 6]\n",
      " [4 9 6 2 7]\n",
      " [5 0 9 4 0]]\n",
      "[18  9 18 10 13]\n",
      "[[18  9 18 10 13]]\n"
     ]
    }
   ],
   "source": [
    "x =np.random.randint(0,10,size=(3,5))\n",
    "print(x)\n",
    "u=x.sum(axis=0)\n",
    "print(u)\n",
    "m=np.mat(x)\n",
    "u2=m.sum(axis=0)\n",
    "print(u2)\n",
    "\n",
    "\n"
   ]
  },
  {
   "cell_type": "markdown",
   "metadata": {},
   "source": [
    "## 矩阵运算\n",
    "\n",
    "* 统计函数与数组运算类似.结果的维数还有些差异."
   ]
  },
  {
   "cell_type": "code",
   "execution_count": null,
   "metadata": {},
   "outputs": [],
   "source": [
    "# make matrix\n",
    "g = np.matrix([[1,2,3],[5,5,6],[7,9,9]])\n",
    "I = g*g**-1\n",
    "print (I)"
   ]
  },
  {
   "cell_type": "markdown",
   "metadata": {},
   "source": [
    "​"
   ]
  },
  {
   "cell_type": "code",
   "execution_count": null,
   "metadata": {},
   "outputs": [],
   "source": [
    "d = np.mat([[3, 9,1,10], [7, 4,6,0],[8,3,5,9]])         # 二维numpy数组\n",
    "r1 = d.sum(axis=0)\n",
    "r2 = d.sum(axis=1)\n",
    "print('d =')\n",
    "print(d)\n",
    "print('r1 shape ',r1.shape)\n",
    "print('r2 shape ',r2.shape)\n",
    "print('每列求和:')\n",
    "print(r1)\n",
    "print('每列求和:')\n",
    "print(r2)\n",
    "\n",
    "\n",
    "\n"
   ]
  },
  {
   "cell_type": "markdown",
   "metadata": {},
   "source": [
    "## 对numpy数组表示的数据进行标准化处理\n",
    "\n",
    "* 请设计程序对numpy表示的二维数组进行标准化处理\n",
    "\n",
    "编写示例程序完成计算\n",
    "\n",
    "下面给出构造二维数组的代码。每列表示一个特征，每行表示一个样本。"
   ]
  },
  {
   "cell_type": "markdown",
   "metadata": {},
   "source": [
    "​"
   ]
  },
  {
   "cell_type": "code",
   "execution_count": null,
   "metadata": {},
   "outputs": [],
   "source": [
    "import numpy as np\n",
    "a=np.fix(10*np.random.rand(4,5))\n",
    "print('二维数组:')\n",
    "print(a)\n",
    "\n"
   ]
  },
  {
   "cell_type": "markdown",
   "metadata": {},
   "source": [
    "​"
   ]
  },
  {
   "cell_type": "markdown",
   "metadata": {},
   "source": [
    "## Python用于科学计算的一些常用工具和库\n",
    "\n",
    "* IPython-增强的交互环境：支持变量自动补全，自动缩进，支持 bash shell命令，内置了许多很有用的功能和函数\n",
    "* Spyder、Wing IDE或Eclipse/Pydev：集成开发环境\n",
    "* NumPy-数学计算基础库：N维数组、线性代数计算、傅立叶变换、随机数等。\n",
    "* SciPy-数值计算库：线性代数、拟合与优化、插值、数值积分、稀疏矩阵、图像处理、统计等。\n",
    "* SymPy-符号运算\n",
    "* Pandas-数据分析库：数据导入、整理、处理、分析等。\n",
    "* matplotlib-会图库：绘制二维图形和图表\n",
    "* Chaco-交互式图表\n",
    "* OpenCV-计算机视觉库\n",
    "* TVTK-数据的三维可视化\n",
    "* Cython-Python转C的编译器：编写高效运算扩展库的首选工具\n",
    "* BioPython-生物科学"
   ]
  },
  {
   "cell_type": "code",
   "execution_count": null,
   "metadata": {},
   "outputs": [],
   "source": [
    "%matplotlib inline\n",
    "%pylab inline"
   ]
  },
  {
   "cell_type": "code",
   "execution_count": null,
   "metadata": {},
   "outputs": [],
   "source": [
    "Populating the interactive namespace from numpy and matplotlib\n",
    "\n"
   ]
  },
  {
   "cell_type": "code",
   "execution_count": null,
   "metadata": {},
   "outputs": [],
   "source": [
    "from __future__ import division\n",
    "from numpy.random import randn\n",
    "import numpy as np\n",
    "np.set_printoptions(precision=4, suppress=True)"
   ]
  },
  {
   "cell_type": "markdown",
   "metadata": {},
   "source": [
    "生成ndarray，即N-Dimensional Array Object，N维数组\n",
    "\n",
    "* array\n",
    "* matrix"
   ]
  },
  {
   "cell_type": "code",
   "execution_count": null,
   "metadata": {},
   "outputs": [],
   "source": [
    "import numpy as np\n",
    "A  = np.array([[2,3,4],[3,4,5]]) #标准创建方法\n",
    "B  = np.array([[1,2,1],[2,3,4]])\n",
    "print(A)\n",
    "print(B)\n",
    "C = A*B\n",
    "print(C)\n",
    "D = A/B\n",
    "print(D)\n",
    "\"\"\"类似功能由MATLAB实现:代码如下\n",
    "A  = [[2,3,4];[3,4,5]]% 标准创建方法\n",
    "B  = [[1,2,1];[2,3,4]]\n",
    "\n",
    "C= A.*B\n",
    "运行结果：\n",
    "A =\n",
    "     2     3     4\n",
    "     3     4     5\n",
    "\n",
    "B =\n",
    "     1     2     1\n",
    "     2     3     4\n",
    "\n",
    "\n",
    "C =\n",
    "     2     6     4\n",
    "     6    12    20\n",
    "\"\"\""
   ]
  },
  {
   "cell_type": "markdown",
   "metadata": {},
   "source": [
    "\n",
    "'类似功能由MATLAB实现:代码如下\\nA  = [[2,3,4];[3,4,5]]% 标准创建方法\\nB  = [[1,2,1];[2,3,4]]\\n\\nC= A.*B\\n运行结果：\\nA =\\n     2     3     4\\n     3     4     5\\n\\nB =\\n     1     2     1\\n     2     3     4\\n\\n\\nC =\\n     2     6     4\\n     6    12    20\\n'\n",
    "\n"
   ]
  },
  {
   "cell_type": "code",
   "execution_count": null,
   "metadata": {},
   "outputs": [],
   "source": [
    "import numpy as np\n",
    "A  = np.mat(np.array([[2,3,4],[3,4,5]]) )#标准创建方法\n",
    "B  = np.mat(np.array([[1,2,1],[2,3,4]])).T # np.mat将array转为矩阵类型\n",
    "print(A)\n",
    "print(B)\n",
    "C = A*B # 矩阵乘法 C为矩阵A与矩阵B之积\n",
    "print(C)\n",
    "\"\"\"类似的MATLAB代码:\n",
    "A  = [[2,3,4];[3,4,5]]% 标准创建方法\n",
    "B  = [[1,2,1];[2,3,4]]'\n",
    "\n",
    "C= A*B\n",
    "运行结果:\n",
    "A =\n",
    "     2     3     4\n",
    "     3     4     5\n",
    "\n",
    "B =\n",
    "     1     2\n",
    "     2     3\n",
    "     1     4\n",
    "\n",
    "C =\n",
    "    12    29\n",
    "    16    38\n",
    "\"\"\""
   ]
  },
  {
   "cell_type": "markdown",
   "metadata": {},
   "source": [
    "## array的dot函数"
   ]
  },
  {
   "cell_type": "code",
   "execution_count": null,
   "metadata": {},
   "outputs": [],
   "source": [
    "import numpy as np\n",
    "A  = np.array([[2,3,4],[3,4,5]]) #标准创建方法\n",
    "B  = np.array([[1,2,1],[2,3,4]]).T\n",
    "print(A)\n",
    "print(B)\n",
    "C = np.dot(A,B)\n",
    "print(C)"
   ]
  },
  {
   "cell_type": "markdown",
   "metadata": {},
   "source": [
    "## matrix 做数组运算multiply"
   ]
  },
  {
   "cell_type": "code",
   "execution_count": null,
   "metadata": {},
   "outputs": [],
   "source": [
    "import numpy as np\n",
    "A  = np.mat(np.array([[2,3,4],[3,4,5]]) )# 标准创建方法\n",
    "B  = np.mat(np.array([[1,2,1],[2,3,4]])) # np.mat将array转为矩阵类型\n",
    "print(A)\n",
    "print(B)\n",
    "C = np.multiply(A,B) #\n",
    "print(C)\n"
   ]
  },
  {
   "cell_type": "code",
   "execution_count": null,
   "metadata": {},
   "outputs": [],
   "source": [
    "[[2 3 4]\n",
    " [3 4 5]]\n",
    "[[1 2 1]\n",
    " [2 3 4]]\n",
    "[[ 2  6  4]\n",
    " [ 6 12 20]]\n",
    "\n"
   ]
  },
  {
   "cell_type": "code",
   "execution_count": null,
   "metadata": {},
   "outputs": [],
   "source": [
    "a = np.random.rand(3)\n",
    "print(a)\n",
    "\n",
    "b = np.random.rand(3,4)\n",
    "print(b)\n"
   ]
  },
  {
   "cell_type": "code",
   "execution_count": null,
   "metadata": {},
   "outputs": [],
   "source": [
    "[0.13080455 0.22781023 0.06283916]\n",
    "[[0.00476745 0.52431212 0.66107212 0.59896762]\n",
    " [0.67285076 0.27069669 0.68191116 0.0882349 ]\n",
    " [0.36351147 0.09211691 0.05282372 0.01011045]]\n",
    "\n"
   ]
  },
  {
   "cell_type": "code",
   "execution_count": null,
   "metadata": {},
   "outputs": [],
   "source": [
    "arr = np.arange(10).reshape(2,5) #arrange类似于range,但返回的是ndarray，算是快速创建方法，只能生成一维数组，多维需要reshape\n",
    "arr"
   ]
  },
  {
   "cell_type": "code",
   "execution_count": null,
   "metadata": {},
   "outputs": [],
   "source": [
    "array([[0, 1, 2, 3, 4],\n",
    "       [5, 6, 7, 8, 9]])\n",
    "\n",
    "\n"
   ]
  },
  {
   "cell_type": "code",
   "execution_count": null,
   "metadata": {},
   "outputs": [],
   "source": [
    "np.array([[2,3,4],[3,4,5]]) #标准创建方法"
   ]
  },
  {
   "cell_type": "code",
   "execution_count": null,
   "metadata": {},
   "outputs": [],
   "source": [
    "array([[2, 3, 4],\n",
    "       [3, 4, 5]])\n",
    "\n",
    "\n"
   ]
  },
  {
   "cell_type": "code",
   "execution_count": null,
   "metadata": {},
   "outputs": [],
   "source": [
    "np.asarray((1,2,3)) #将输入装换为ndarray"
   ]
  },
  {
   "cell_type": "code",
   "execution_count": null,
   "metadata": {},
   "outputs": [],
   "source": [
    "array([1, 2, 3])\n",
    "\n",
    "\n"
   ]
  },
  {
   "cell_type": "code",
   "execution_count": null,
   "metadata": {},
   "outputs": [],
   "source": [
    "np.arange(10,25,5)#类似内置的range，返回ndarray"
   ]
  },
  {
   "cell_type": "code",
   "execution_count": null,
   "metadata": {},
   "outputs": [],
   "source": [
    "array([10, 15, 20])\n",
    "\n",
    "\n"
   ]
  },
  {
   "cell_type": "code",
   "execution_count": null,
   "metadata": {},
   "outputs": [],
   "source": [
    "a = np.ones((2,2),dtype=np.int32)\n",
    "print(a)\n",
    "b = np.ones_like(arr) #根据指定的形状和dtype创建全1数组。ones_like以另一个数组作为形状参数\n",
    "print(b)"
   ]
  },
  {
   "cell_type": "code",
   "execution_count": null,
   "metadata": {},
   "outputs": [],
   "source": [
    "[[1 1]\n",
    " [1 1]]\n",
    "[[1 1 1 1 1]\n",
    " [1 1 1 1 1]]\n",
    "\n"
   ]
  },
  {
   "cell_type": "code",
   "execution_count": null,
   "metadata": {},
   "outputs": [],
   "source": [
    "a = np.eye(2)\n",
    "print(a)\n",
    "b = np.identity(3)#创建一个N*N的单位矩阵(对角线为1，其余为0)\n",
    "print(b)"
   ]
  },
  {
   "cell_type": "code",
   "execution_count": null,
   "metadata": {},
   "outputs": [],
   "source": [
    "[[1. 0.]\n",
    " [0. 1.]]\n",
    "[[1. 0. 0.]\n",
    " [0. 1. 0.]\n",
    " [0. 0. 1.]]\n",
    "\n"
   ]
  },
  {
   "cell_type": "code",
   "execution_count": null,
   "metadata": {},
   "outputs": [],
   "source": [
    "np.linspace(0,2,9)#创建等差数列,[0,2]中取9个数"
   ]
  },
  {
   "cell_type": "code",
   "execution_count": null,
   "metadata": {},
   "outputs": [],
   "source": [
    "array([ 0.  ,  0.25,  0.5 ,  0.75,  1.  ,  1.25,  1.5 ,  1.75,  2.  ])\n",
    "\n"
   ]
  },
  {
   "cell_type": "markdown",
   "metadata": {},
   "source": [
    "## 求矩阵的逆"
   ]
  },
  {
   "cell_type": "code",
   "execution_count": null,
   "metadata": {},
   "outputs": [],
   "source": [
    "a = np.array([[1,2,3],[4,2,1],[2,1,2]])\n",
    "ainv  = np.linalg.inv(a)\n",
    "ainv2 = np.linalg.inv(np.mat(a))\n",
    "print(ainv)\n",
    "print(ainv2)\n",
    "\n",
    "print(type(ainv),type(ainv2))\n"
   ]
  },
  {
   "cell_type": "code",
   "execution_count": null,
   "metadata": {},
   "outputs": [],
   "source": [
    "a = np.array([[1,2,3],[4,5,6],[7,8,9]])\n",
    "b = a\n",
    "a[0,1] = 9\n",
    "print(a)\n",
    "print(a[0:2,0:2]) # 获取子阵\n"
   ]
  },
  {
   "cell_type": "code",
   "execution_count": null,
   "metadata": {},
   "outputs": [],
   "source": [
    "#ndarray里所有元素必须是相同类型，每个ndarray都有一个shape和一个dtype等"
   ]
  },
  {
   "cell_type": "code",
   "execution_count": null,
   "metadata": {},
   "outputs": [],
   "source": [
    "print(a.shape)\n",
    "print(a.dtype)\n",
    "print(a.size)\n",
    "print(a.ndim)"
   ]
  },
  {
   "cell_type": "code",
   "execution_count": null,
   "metadata": {},
   "outputs": [],
   "source": [
    "#ndarray的数据类型是可以转换的\n",
    "b = a.astype(np.float64)\n",
    "print(b)"
   ]
  },
  {
   "cell_type": "markdown",
   "metadata": {},
   "source": [
    "数组和标量之间的运算"
   ]
  },
  {
   "cell_type": "code",
   "execution_count": null,
   "metadata": {},
   "outputs": [],
   "source": [
    "#数组与标量之间的运算会将运算应用到元素级\n",
    "arr**2"
   ]
  },
  {
   "cell_type": "code",
   "execution_count": null,
   "metadata": {},
   "outputs": [],
   "source": [
    "[1,2,3]*3 #普通的列表或是元组，只能与整数相乘，表示多个该数据合并"
   ]
  },
  {
   "cell_type": "markdown",
   "metadata": {},
   "source": [
    "索引和切片"
   ]
  },
  {
   "cell_type": "code",
   "execution_count": null,
   "metadata": {},
   "outputs": [],
   "source": [
    "arr[:,3:]=0\n",
    "arr"
   ]
  },
  {
   "cell_type": "code",
   "execution_count": null,
   "metadata": {},
   "outputs": [],
   "source": [
    "arr3d = np.array([[[1, 2, 3], [4, 5, 6]], [[7, 8, 9], [10, 11, 12]]]) #ndarray的标准创建方法，\n",
    "#arr3d的维度是2*2*3,,指2个两行三列的数组组成的数组，，A=a1*a2*....*a(n),,,a(n-1)代表行，a(n)代表列，A[0]代表从a1切片\n",
    "arr3d[0]"
   ]
  },
  {
   "cell_type": "code",
   "execution_count": null,
   "metadata": {},
   "outputs": [],
   "source": [
    "old_values = arr3d[0].copy() #使用copy是新生成了一个副本记录，一般的索引只是引用了原始数据的视图，改变视图即改变了原始数据\n",
    "arr3d[0] = 42\n",
    "arr3d"
   ]
  },
  {
   "cell_type": "code",
   "execution_count": null,
   "metadata": {},
   "outputs": [],
   "source": [
    "arr3d[0] = old_values\n",
    "arr3d"
   ]
  },
  {
   "cell_type": "code",
   "execution_count": null,
   "metadata": {},
   "outputs": [],
   "source": [
    "crr=np.arange(9).reshape(3,3)\n",
    "crr[1,:2],crr[1:2,:2] #注意这里的不同，前面是一维数组，后面是二维数组"
   ]
  },
  {
   "cell_type": "code",
   "execution_count": null,
   "metadata": {},
   "outputs": [],
   "source": [
    "arr3d[1, 0]"
   ]
  },
  {
   "cell_type": "code",
   "execution_count": null,
   "metadata": {},
   "outputs": [],
   "source": [
    "names = np.array(['Bob', 'Joe', 'Will', 'Bob', 'Will', 'Joe', 'Joe'])\n",
    "data = np.random.randn(7, 4)    #布尔型索引特别注意，轴长应等于被索引的数组长度\n",
    "data"
   ]
  },
  {
   "cell_type": "code",
   "execution_count": null,
   "metadata": {},
   "outputs": [],
   "source": [
    "data[names == 'Bob']#这里是等于行数7"
   ]
  },
  {
   "cell_type": "code",
   "execution_count": null,
   "metadata": {},
   "outputs": [],
   "source": [
    "mingzi = ['aa','bb','cc','bb'] ##\n",
    "c = data[mingzi== 'bb']\n",
    "print(c)\n",
    "mingzi = np.array(['aa','bb','cc','bb'])##\n",
    "c = data[:,mingzi== 'bb']\n",
    "print(c)"
   ]
  },
  {
   "cell_type": "code",
   "execution_count": null,
   "metadata": {},
   "outputs": [],
   "source": [
    "data[names == 'Bob']= 0 #布尔索引也是引用视图的形式\n",
    "print('data:',data)\n",
    "data[names=='Bob']=0\n",
    "data[names != 'Joe'] = 7\n",
    "print(data)"
   ]
  },
  {
   "cell_type": "code",
   "execution_count": null,
   "metadata": {},
   "outputs": [],
   "source": [
    "import numpy as np #花式索引\n",
    "arr = np.arange(32).reshape((8, 4))\n",
    "arr[[1, 5, 7, 2]][:, [0, 3, 1, 2]]=0\n",
    "print(arr)"
   ]
  },
  {
   "cell_type": "code",
   "execution_count": null,
   "metadata": {},
   "outputs": [],
   "source": [
    "arr[-3,-1]"
   ]
  },
  {
   "cell_type": "code",
   "execution_count": null,
   "metadata": {},
   "outputs": [],
   "source": [
    "23\n",
    "\n",
    "\n"
   ]
  },
  {
   "cell_type": "code",
   "execution_count": null,
   "metadata": {},
   "outputs": [],
   "source": [
    "arr[[-5]]"
   ]
  },
  {
   "cell_type": "code",
   "execution_count": null,
   "metadata": {},
   "outputs": [],
   "source": [
    "array([[12, 13, 14, 15]])\n",
    "\n",
    "\n"
   ]
  },
  {
   "cell_type": "code",
   "execution_count": null,
   "metadata": {},
   "outputs": [],
   "source": [
    "arr[-5]"
   ]
  },
  {
   "cell_type": "code",
   "execution_count": null,
   "metadata": {},
   "outputs": [],
   "source": [
    "array([12, 13, 14, 15])\n",
    "\n",
    "\n"
   ]
  },
  {
   "cell_type": "code",
   "execution_count": null,
   "metadata": {},
   "outputs": [],
   "source": [
    "arr[[-3, -5, -7]]"
   ]
  },
  {
   "cell_type": "code",
   "execution_count": null,
   "metadata": {},
   "outputs": [],
   "source": [
    "arr[[-3, -5, -7]]=0"
   ]
  },
  {
   "cell_type": "code",
   "execution_count": null,
   "metadata": {},
   "outputs": [],
   "source": [
    "arr"
   ]
  },
  {
   "cell_type": "code",
   "execution_count": null,
   "metadata": {},
   "outputs": [],
   "source": [
    "arr = np.arange(32).reshape((8, 4))\n",
    "arr[[1,5,7,2]][:,[0,3,1,2]],arr[:,[0,3,1,2]][[1,5,7,2]] #先后顺序可变"
   ]
  },
  {
   "cell_type": "code",
   "execution_count": null,
   "metadata": {},
   "outputs": [],
   "source": [
    "#总结一下：基本索引/切片、布尔索引、一级花式索引都是引用视图，，但是，花式索引中一次传入多个索引数组则会创建副本"
   ]
  },
  {
   "cell_type": "markdown",
   "metadata": {},
   "source": [
    "## 数组转置和形状变化"
   ]
  },
  {
   "cell_type": "code",
   "execution_count": null,
   "metadata": {},
   "outputs": [],
   "source": [
    "arr=np.arange(32).reshape(8,4)\n",
    "arr"
   ]
  },
  {
   "cell_type": "code",
   "execution_count": null,
   "metadata": {},
   "outputs": [],
   "source": [
    "brr=arr.reshape(2,16)  #看来，reshape也是引用视图\n",
    "brr[1]=0\n",
    "arr"
   ]
  },
  {
   "cell_type": "code",
   "execution_count": null,
   "metadata": {},
   "outputs": [],
   "source": [
    "arr = np.arange(30).reshape((2,3, 5)) #2个3行5列ndarray组成的三维ndarray\n",
    "arr"
   ]
  },
  {
   "cell_type": "code",
   "execution_count": null,
   "metadata": {},
   "outputs": [],
   "source": [
    "arr.T#简单转置，变成了(5,3,2),,5个3行2列的ndarray"
   ]
  },
  {
   "cell_type": "code",
   "execution_count": null,
   "metadata": {},
   "outputs": [],
   "source": [
    "arr.transpose((1, 0, 2))#高级转置，用元组表示转置的轴，第一个轴和第二个轴互换，shape是(3,2,5),费脑子,复制新数据"
   ]
  },
  {
   "cell_type": "code",
   "execution_count": null,
   "metadata": {},
   "outputs": [],
   "source": [
    "arr.swapaxes(1, 2) #换第二个和第三个轴，引用视图"
   ]
  },
  {
   "cell_type": "code",
   "execution_count": null,
   "metadata": {},
   "outputs": [],
   "source": [
    "arr.transpose((2, 1, 0))"
   ]
  },
  {
   "cell_type": "code",
   "execution_count": null,
   "metadata": {},
   "outputs": [],
   "source": [
    "array([[[ 0, 15],\n",
    "        [ 5, 20],\n",
    "        [10, 25]],\n",
    "\n",
    "       [[ 1, 16],\n",
    "        [ 6, 21],\n",
    "        [11, 26]],\n",
    "\n",
    "       [[ 2, 17],\n",
    "        [ 7, 22],\n",
    "        [12, 27]],\n",
    "\n",
    "       [[ 3, 18],\n",
    "        [ 8, 23],\n",
    "        [13, 28]],\n",
    "\n",
    "       [[ 4, 19],\n",
    "        [ 9, 24],\n",
    "        [14, 29]]])\n",
    "\n",
    "\n"
   ]
  },
  {
   "cell_type": "code",
   "execution_count": null,
   "metadata": {},
   "outputs": [],
   "source": [
    "arr.reshape(3,2,5) #reshape只是更改数据的形状，元素顺序不变，，换轴会导致元素顺序变化"
   ]
  },
  {
   "cell_type": "code",
   "execution_count": null,
   "metadata": {},
   "outputs": [],
   "source": [
    "array([[[ 0,  1,  2,  3,  4],\n",
    "        [ 5,  6,  7,  8,  9]],\n",
    "\n",
    "       [[10, 11, 12, 13, 14],\n",
    "        [15, 16, 17, 18, 19]],\n",
    "\n",
    "       [[20, 21, 22, 23, 24],\n",
    "        [25, 26, 27, 28, 29]]])\n",
    "\n"
   ]
  },
  {
   "cell_type": "markdown",
   "metadata": {},
   "source": [
    "## 元素级数组函数"
   ]
  },
  {
   "cell_type": "code",
   "execution_count": null,
   "metadata": {},
   "outputs": [],
   "source": [
    "x = np.random.randn(8).reshape(2,4)\n",
    "y = np.random.randn(8).reshape(2,4)\n",
    "np.maximum(x, y) #取对应元素最大值\n",
    "np.power(x,y),x**y,2**y\n",
    "np.add(x,1)"
   ]
  },
  {
   "cell_type": "code",
   "execution_count": null,
   "metadata": {},
   "outputs": [],
   "source": [
    "np.logical_not(x>0),-x>0 #两者等价"
   ]
  },
  {
   "cell_type": "code",
   "execution_count": null,
   "metadata": {},
   "outputs": [],
   "source": [
    "points = np.arange(-5, 5, 0.01) # 1000 equally spaced points\n",
    "xs, ys = np.meshgrid(points, points)\n",
    "ys"
   ]
  },
  {
   "cell_type": "code",
   "execution_count": null,
   "metadata": {},
   "outputs": [],
   "source": [
    "from matplotlib.pyplot import imshow, title\n",
    "import matplotlib.pyplot as plt\n",
    "z = np.sqrt(xs ** 2 + ys ** 2)\n",
    "z\n",
    "plt.imshow(z, cmap=plt.cm.gray); plt.colorbar()\n",
    "plt.title(\"Image plot of $\\sqrt{x^2 + y^2}$ for a grid of values\")"
   ]
  },
  {
   "cell_type": "markdown",
   "metadata": {},
   "source": [
    "* 数组统计方法，一般是聚合计算，以数组或是某条轴作为参数"
   ]
  },
  {
   "cell_type": "code",
   "execution_count": null,
   "metadata": {},
   "outputs": [],
   "source": [
    "arr = np.random.randn(5, 4)\n",
    "arr"
   ]
  },
  {
   "cell_type": "code",
   "execution_count": null,
   "metadata": {},
   "outputs": [],
   "source": [
    "t1 = arr.mean(0) #5行4列，在行上求均值，结果就是行榻缩成4个点\n",
    "t2 = np.mean(arr,0)\n",
    "print('t1',t1)\n",
    "print('t2',t2)\n",
    "print(arr.sum())\n",
    "print(arr.mean(axis=1))#axis指计算该轴向上的统计值，结果是消灭该轴\n",
    "print(arr.sum(0))#即axis=0"
   ]
  },
  {
   "cell_type": "code",
   "execution_count": null,
   "metadata": {},
   "outputs": [],
   "source": [
    "arr = np.array([[0, 1, 2], [3, 4, 5], [6, 7, 8]])"
   ]
  },
  {
   "cell_type": "code",
   "execution_count": null,
   "metadata": {},
   "outputs": [],
   "source": [
    "arr.cumsum(0)"
   ]
  },
  {
   "cell_type": "code",
   "execution_count": null,
   "metadata": {},
   "outputs": [],
   "source": [
    "array([[ 0,  1,  2],\n",
    "       [ 3,  5,  7],\n",
    "       [ 9, 12, 15]], dtype=int32)\n",
    "\n",
    "\n"
   ]
  },
  {
   "cell_type": "code",
   "execution_count": null,
   "metadata": {},
   "outputs": [],
   "source": [
    "arr.cumprod(1)"
   ]
  },
  {
   "cell_type": "code",
   "execution_count": null,
   "metadata": {},
   "outputs": [],
   "source": [
    "array([[  0,   0,   0],\n",
    "       [  3,  12,  60],\n",
    "       [  6,  42, 336]], dtype=int32)\n",
    "\n",
    "\n"
   ]
  },
  {
   "cell_type": "code",
   "execution_count": null,
   "metadata": {},
   "outputs": [],
   "source": [
    "arr = randn(100)\n",
    "(arr > 0).sum() # 计算中布尔值会被自动转换为0或1"
   ]
  },
  {
   "cell_type": "code",
   "execution_count": null,
   "metadata": {},
   "outputs": [],
   "source": [
    "45\n",
    "\n",
    "\n"
   ]
  },
  {
   "cell_type": "code",
   "execution_count": null,
   "metadata": {},
   "outputs": [],
   "source": [
    "bools = np.array([False, False, True, False])"
   ]
  },
  {
   "cell_type": "code",
   "execution_count": null,
   "metadata": {},
   "outputs": [],
   "source": [
    "bools.any()"
   ]
  },
  {
   "cell_type": "code",
   "execution_count": null,
   "metadata": {},
   "outputs": [],
   "source": [
    "True\n",
    "\n",
    "\n"
   ]
  },
  {
   "cell_type": "code",
   "execution_count": null,
   "metadata": {},
   "outputs": [],
   "source": [
    "bools.all()"
   ]
  },
  {
   "cell_type": "code",
   "execution_count": null,
   "metadata": {},
   "outputs": [],
   "source": [
    "False\n",
    "\n"
   ]
  },
  {
   "cell_type": "markdown",
   "metadata": {},
   "source": [
    "ndarry排序"
   ]
  },
  {
   "cell_type": "code",
   "execution_count": null,
   "metadata": {},
   "outputs": [],
   "source": [
    "arr=randn(5,3)\n",
    "arr"
   ]
  },
  {
   "cell_type": "code",
   "execution_count": null,
   "metadata": {},
   "outputs": [],
   "source": [
    "array([[ 0.2244, -1.5502,  0.2917],\n",
    "       [ 0.5305,  0.0684,  1.4814],\n",
    "       [-0.138 ,  0.8196, -0.7189],\n",
    "       [-0.9486, -0.0314, -0.9882],\n",
    "       [-1.1357, -0.7062,  1.6862]])\n",
    "\n",
    "\n"
   ]
  },
  {
   "cell_type": "code",
   "execution_count": null,
   "metadata": {},
   "outputs": [],
   "source": [
    "arr.sort()#默认是在axis=0上做排序"
   ]
  },
  {
   "cell_type": "code",
   "execution_count": null,
   "metadata": {},
   "outputs": [],
   "source": [
    "arr#排序会创建副本，就地排序会修改数据"
   ]
  },
  {
   "cell_type": "code",
   "execution_count": null,
   "metadata": {},
   "outputs": [],
   "source": [
    "array([[-1.5502,  0.2244,  0.2917],\n",
    "       [ 0.0684,  0.5305,  1.4814],\n",
    "       [-0.7189, -0.138 ,  0.8196],\n",
    "       [-0.9882, -0.9486, -0.0314],\n",
    "       [-1.1357, -0.7062,  1.6862]])\n",
    "\n",
    "\n"
   ]
  },
  {
   "cell_type": "code",
   "execution_count": null,
   "metadata": {},
   "outputs": [],
   "source": [
    "initial_value = 0\n",
    "sample_list = [initial_value for i in range(10)]"
   ]
  },
  {
   "cell_type": "code",
   "execution_count": null,
   "metadata": {},
   "outputs": [],
   "source": [
    "sample_list"
   ]
  },
  {
   "cell_type": "code",
   "execution_count": null,
   "metadata": {},
   "outputs": [],
   "source": [
    "[0, 0, 0, 0, 0, 0, 0, 0, 0, 0]\n",
    "\n",
    "\n"
   ]
  },
  {
   "cell_type": "code",
   "execution_count": null,
   "metadata": {},
   "outputs": [],
   "source": [
    "sample_list = [initial_value]*5\n",
    "sample_list"
   ]
  },
  {
   "cell_type": "code",
   "execution_count": null,
   "metadata": {},
   "outputs": [],
   "source": [
    "[0, 0, 0, 0, 0]\n",
    "\n",
    "\n"
   ]
  },
  {
   "cell_type": "code",
   "execution_count": null,
   "metadata": {},
   "outputs": [],
   "source": [
    "[1,2,3]*5,(1,2,3)*5  #这是列表和元组同数值相乘"
   ]
  },
  {
   "cell_type": "code",
   "execution_count": null,
   "metadata": {},
   "outputs": [],
   "source": [
    "arr=np.array([1,2,3]) #这是ndarray与数值相乘,实际是里面的元素同数值相乘\n",
    "arr*5"
   ]
  },
  {
   "cell_type": "code",
   "execution_count": null,
   "metadata": {},
   "outputs": [],
   "source": [
    "k=[]\n",
    "for i  in [1,2,3]:\n",
    "    k.append(i*5)\n",
    "k"
   ]
  },
  {
   "cell_type": "code",
   "execution_count": null,
   "metadata": {},
   "outputs": [],
   "source": [
    "import this  #Python之歌"
   ]
  },
  {
   "cell_type": "markdown",
   "metadata": {},
   "source": [
    "数组函数where，表述条件逻辑"
   ]
  },
  {
   "cell_type": "code",
   "execution_count": null,
   "metadata": {},
   "outputs": [],
   "source": [
    "# 演示np.where的用法\n",
    "import numpy as np\n",
    "a = np.fix(10*np.random.rand(5,4))\n",
    "print(a)\n",
    "# 获取a中小于5的元素个数\n",
    "c = np.where(a<5)\n",
    "print(c)\n",
    "print(type(c))\n",
    "print('row index:',c[0])\n",
    "print('col index:',c[1])\n",
    "print('col index size:',c[1].size) # 元素个数\n",
    "# 请将a中小于5的元素置为9\n",
    "d1 = a.copy()\n",
    "d2 = a.copy()\n",
    "d1[np.where(d1<5)] = 9\n",
    "print(d1)\n",
    "\n",
    "d2[d2 < 5] = 9 # 更简洁\n",
    "print(d2)\n"
   ]
  },
  {
   "cell_type": "code",
   "execution_count": null,
   "metadata": {},
   "outputs": [],
   "source": [
    "[[7. 8. 1. 5.]\n",
    " [6. 8. 4. 5.]\n",
    " [6. 9. 5. 4.]\n",
    " [2. 0. 4. 8.]\n",
    " [7. 5. 1. 3.]]\n",
    "(array([0, 1, 2, 3, 3, 3, 4, 4], dtype=int64), array([2, 2, 3, 0, 1, 2, 2, 3], dtype=int64))\n",
    "<class 'tuple'>\n",
    "row index: [0 1 2 3 3 3 4 4]\n",
    "col index: [2 2 3 0 1 2 2 3]\n",
    "col index size: 8\n",
    "[[7. 8. 9. 5.]\n",
    " [6. 8. 9. 5.]\n",
    " [6. 9. 5. 9.]\n",
    " [9. 9. 9. 8.]\n",
    " [7. 5. 9. 9.]]\n",
    "[[7. 8. 9. 5.]\n",
    " [6. 8. 9. 5.]\n",
    " [6. 9. 5. 9.]\n",
    " [9. 9. 9. 8.]\n",
    " [7. 5. 9. 9.]]\n",
    "\n"
   ]
  },
  {
   "cell_type": "code",
   "execution_count": null,
   "metadata": {},
   "outputs": [],
   "source": [
    "xarr = np.array([1.1, 1.2, 1.3, 1.4, 1.5])\n",
    "yarr = np.array([2.1, 2.2, 2.3, 2.4, 2.5])\n",
    "cond = np.array([True, False, True, True, False])"
   ]
  },
  {
   "cell_type": "code",
   "execution_count": null,
   "metadata": {},
   "outputs": [],
   "source": [
    "result = [(x if c else y)\n",
    "          for x, y, c in zip(xarr, yarr, cond)]"
   ]
  },
  {
   "cell_type": "code",
   "execution_count": null,
   "metadata": {},
   "outputs": [],
   "source": [
    "result"
   ]
  },
  {
   "cell_type": "code",
   "execution_count": null,
   "metadata": {},
   "outputs": [],
   "source": [
    "result = np.where(cond, xarr, yarr)#条件判断神器where\n",
    "result"
   ]
  },
  {
   "cell_type": "code",
   "execution_count": null,
   "metadata": {},
   "outputs": [],
   "source": [
    "arr = np.random.randn(4, 4)\n",
    "arr\n",
    "np.where(arr > 0, 2, -2)"
   ]
  },
  {
   "cell_type": "code",
   "execution_count": null,
   "metadata": {},
   "outputs": [],
   "source": [
    "T=np.where(arr>0,2,arr)\n",
    "print(T)"
   ]
  },
  {
   "cell_type": "code",
   "execution_count": null,
   "metadata": {},
   "outputs": [],
   "source": [
    "cond1=[True, False, True, True, False]\n",
    "cond2=[True, True, True, False, False]\n",
    "result = []\n",
    "for i in range(5):\n",
    "    if cond1[i] and cond2[i]:\n",
    "        result.append(0)\n",
    "    elif cond1[i]:\n",
    "        result.append(1)\n",
    "    elif cond2[i]:\n",
    "        result.append(2)\n",
    "    else:\n",
    "        result.append(3)\n",
    "result        "
   ]
  },
  {
   "cell_type": "code",
   "execution_count": null,
   "metadata": {},
   "outputs": [],
   "source": [
    "np.where(cond1 and cond2, 0,\n",
    "         np.where(cond1, 1,\n",
    "                  np.where(cond2, 2, 3)))"
   ]
  },
  {
   "cell_type": "code",
   "execution_count": null,
   "metadata": {},
   "outputs": [],
   "source": [
    "0&1 #&和|不能用于两个列表"
   ]
  },
  {
   "cell_type": "markdown",
   "metadata": {},
   "source": [
    "### 统计聚合函数"
   ]
  },
  {
   "cell_type": "code",
   "execution_count": null,
   "metadata": {},
   "outputs": [],
   "source": [
    "arr = np.random.randn(5, 4)\n",
    "arr"
   ]
  },
  {
   "cell_type": "code",
   "execution_count": null,
   "metadata": {},
   "outputs": [],
   "source": [
    "arr.sum()"
   ]
  },
  {
   "cell_type": "code",
   "execution_count": null,
   "metadata": {},
   "outputs": [],
   "source": [
    "arr.argmin() #最小元素的索引，第9个"
   ]
  },
  {
   "cell_type": "code",
   "execution_count": null,
   "metadata": {},
   "outputs": [],
   "source": [
    "8\n",
    "\n",
    "\n"
   ]
  },
  {
   "cell_type": "code",
   "execution_count": null,
   "metadata": {},
   "outputs": [],
   "source": [
    "np.argmin(arr) #第二种引用方法"
   ]
  },
  {
   "cell_type": "code",
   "execution_count": null,
   "metadata": {},
   "outputs": [],
   "source": [
    "arr.cumsum()  #累加"
   ]
  },
  {
   "cell_type": "code",
   "execution_count": null,
   "metadata": {},
   "outputs": [],
   "source": [
    "arr.cumsum(0) #以行为基础，在列上累加"
   ]
  },
  {
   "cell_type": "code",
   "execution_count": null,
   "metadata": {},
   "outputs": [],
   "source": [
    "arr.cumsum(1)"
   ]
  },
  {
   "cell_type": "markdown",
   "metadata": {},
   "source": [
    "Unique函数"
   ]
  },
  {
   "cell_type": "code",
   "execution_count": null,
   "metadata": {},
   "outputs": [],
   "source": [
    "names = np.array(['Bob', 'Zoe', 'Will', 'Bob', 'Will', 'Joe', 'Joe']) \n",
    "np.unique(names) #unique函数同集合的操作类似，数据结果会自动排序"
   ]
  },
  {
   "cell_type": "code",
   "execution_count": null,
   "metadata": {},
   "outputs": [],
   "source": [
    "array(['Bob', 'Joe', 'Will', 'Zoe'], \n",
    "      dtype='<U4')\n",
    "\n",
    "\n"
   ]
  },
  {
   "cell_type": "code",
   "execution_count": null,
   "metadata": {},
   "outputs": [],
   "source": [
    "sorted(set(names))"
   ]
  },
  {
   "cell_type": "code",
   "execution_count": null,
   "metadata": {},
   "outputs": [],
   "source": [
    "['Bob', 'Joe', 'Will', 'Zoe']\n",
    "\n"
   ]
  },
  {
   "cell_type": "markdown",
   "metadata": {},
   "source": [
    "数据存取（文本文件或二进制文件）"
   ]
  },
  {
   "cell_type": "code",
   "execution_count": null,
   "metadata": {},
   "outputs": [],
   "source": [
    "arr=np.arange(10).reshape(2,5)"
   ]
  },
  {
   "cell_type": "code",
   "execution_count": null,
   "metadata": {},
   "outputs": [],
   "source": [
    "np.save('some_array',arr) #存在当前路径下，二进制格式"
   ]
  },
  {
   "cell_type": "code",
   "execution_count": null,
   "metadata": {},
   "outputs": [],
   "source": [
    "np.load('some_array.npy') #记得带上n(女)p(朋)y(友)"
   ]
  },
  {
   "cell_type": "code",
   "execution_count": null,
   "metadata": {},
   "outputs": [],
   "source": [
    "array([[0, 1, 2, 3, 4],\n",
    "       [5, 6, 7, 8, 9]])\n",
    "\n",
    "\n"
   ]
  },
  {
   "cell_type": "code",
   "execution_count": null,
   "metadata": {},
   "outputs": [],
   "source": [
    "np.savez('array_archive.npz', a=arr, b=arr)#将多个数组保存为一个压缩文件"
   ]
  },
  {
   "cell_type": "code",
   "execution_count": null,
   "metadata": {},
   "outputs": [],
   "source": [
    "np.load('array_archive.npz') "
   ]
  },
  {
   "cell_type": "code",
   "execution_count": null,
   "metadata": {},
   "outputs": [],
   "source": [
    "arch = np.load('array_archive.npz')\n",
    "arch['b']"
   ]
  },
  {
   "cell_type": "code",
   "execution_count": null,
   "metadata": {},
   "outputs": [],
   "source": [
    "arr = np.loadtxt('ch04/array_ex.txt', delimiter=',')\n",
    "arr[:3]"
   ]
  },
  {
   "cell_type": "code",
   "execution_count": null,
   "metadata": {},
   "outputs": [],
   "source": [
    "x = np.array([[1., 2., 3.], [4., 5., 6.]])\n",
    "y = np.array([[6., 23.], [-1, 7], [8, 9]])"
   ]
  },
  {
   "cell_type": "code",
   "execution_count": null,
   "metadata": {},
   "outputs": [],
   "source": [
    "x.dot(y)  #dot,矩阵乘法，，2行3列 * 3行2列，得出2行2列的结果"
   ]
  },
  {
   "cell_type": "code",
   "execution_count": null,
   "metadata": {},
   "outputs": [],
   "source": [
    "np.dot(x, np.ones(3))"
   ]
  },
  {
   "cell_type": "code",
   "execution_count": null,
   "metadata": {},
   "outputs": [],
   "source": [
    "np.random.seed(12345)"
   ]
  },
  {
   "cell_type": "code",
   "execution_count": null,
   "metadata": {},
   "outputs": [],
   "source": [
    "from numpy.linalg import inv, qr   #linalg矩阵分解运算包"
   ]
  },
  {
   "cell_type": "code",
   "execution_count": null,
   "metadata": {},
   "outputs": [],
   "source": [
    "X = randn(5, 5)"
   ]
  },
  {
   "cell_type": "code",
   "execution_count": null,
   "metadata": {},
   "outputs": [],
   "source": [
    "X"
   ]
  },
  {
   "cell_type": "code",
   "execution_count": null,
   "metadata": {},
   "outputs": [],
   "source": [
    "mat = X.T.dot(X)"
   ]
  },
  {
   "cell_type": "code",
   "execution_count": null,
   "metadata": {},
   "outputs": [],
   "source": [
    "mat"
   ]
  },
  {
   "cell_type": "code",
   "execution_count": null,
   "metadata": {},
   "outputs": [],
   "source": [
    "X.dot(X.T)"
   ]
  },
  {
   "cell_type": "code",
   "execution_count": null,
   "metadata": {},
   "outputs": [],
   "source": [
    "inv(mat)"
   ]
  },
  {
   "cell_type": "markdown",
   "metadata": {},
   "source": [
    "### numpy里的随机函数"
   ]
  },
  {
   "cell_type": "code",
   "execution_count": null,
   "metadata": {},
   "outputs": [],
   "source": [
    "samples = np.random.normal(size=(4, 4)) #normal生成标准正态分布\n",
    "samples"
   ]
  },
  {
   "cell_type": "code",
   "execution_count": null,
   "metadata": {},
   "outputs": [],
   "source": [
    "from random import normalvariate"
   ]
  },
  {
   "cell_type": "code",
   "execution_count": null,
   "metadata": {},
   "outputs": [],
   "source": [
    "N=1000000"
   ]
  },
  {
   "cell_type": "code",
   "execution_count": null,
   "metadata": {},
   "outputs": [],
   "source": [
    "%timeit samples = [normalvariate(0, 1) for _ in range(N)]"
   ]
  },
  {
   "cell_type": "code",
   "execution_count": null,
   "metadata": {},
   "outputs": [],
   "source": [
    "%timeit np.random.normal(size=N) #numpy里的随机函数快很多"
   ]
  },
  {
   "cell_type": "markdown",
   "metadata": {},
   "source": [
    "### 模拟随机漫步"
   ]
  },
  {
   "cell_type": "code",
   "execution_count": null,
   "metadata": {},
   "outputs": [],
   "source": [
    "from random import random,randint    #random自带的随机整数调用方法\n",
    "from pylab import *"
   ]
  },
  {
   "cell_type": "code",
   "execution_count": null,
   "metadata": {},
   "outputs": [],
   "source": [
    "position = 0\n",
    "walk = [position]\n",
    "steps = 1000\n",
    "for i in range(steps):\n",
    "    step=1 if randint(0, 2) else -1\n",
    "    position+=step\n",
    "    walk.append(position)"
   ]
  },
  {
   "cell_type": "code",
   "execution_count": null,
   "metadata": {},
   "outputs": [],
   "source": [
    "plot(walk)"
   ]
  },
  {
   "cell_type": "markdown",
   "metadata": {},
   "source": [
    "​    \n",
    "\n",
    "​"
   ]
  },
  {
   "cell_type": "code",
   "execution_count": null,
   "metadata": {},
   "outputs": [],
   "source": [
    "np.random.seed(12345)"
   ]
  },
  {
   "cell_type": "code",
   "execution_count": null,
   "metadata": {},
   "outputs": [],
   "source": [
    "draws = np.random.randint(0, 2, size=20) \n",
    "steps = np.where(draws > 0, 1, -1)\n",
    "walk = steps.cumsum()"
   ]
  },
  {
   "cell_type": "code",
   "execution_count": null,
   "metadata": {},
   "outputs": [],
   "source": [
    "walk"
   ]
  },
  {
   "cell_type": "code",
   "execution_count": null,
   "metadata": {},
   "outputs": [],
   "source": [
    "walk.max()"
   ]
  },
  {
   "cell_type": "code",
   "execution_count": null,
   "metadata": {},
   "outputs": [],
   "source": [
    "draws = np.random.randint(0, 2, size=(20,30))\n",
    "steps = np.where(draws > 0, 1, -1)\n",
    "walk = steps.cumsum(1)"
   ]
  },
  {
   "cell_type": "code",
   "execution_count": null,
   "metadata": {},
   "outputs": [],
   "source": [
    "walk"
   ]
  },
  {
   "cell_type": "code",
   "execution_count": null,
   "metadata": {},
   "outputs": [],
   "source": [
    "#继续探索random模块"
   ]
  },
  {
   "cell_type": "code",
   "execution_count": null,
   "metadata": {},
   "outputs": [],
   "source": [
    "np.random.seed(12345)"
   ]
  },
  {
   "cell_type": "code",
   "execution_count": null,
   "metadata": {},
   "outputs": [],
   "source": [
    "np.random.randn(4,4)"
   ]
  },
  {
   "cell_type": "code",
   "execution_count": null,
   "metadata": {},
   "outputs": [],
   "source": [
    "array([[ 0.3026,  0.5238,  0.0009,  1.3438],\n",
    "       [-0.7135, -0.8312, -2.3702, -1.8608],\n",
    "       [-0.8608,  0.5601, -1.2659,  0.1198],\n",
    "       [-1.0635,  0.3329, -2.3594, -0.1995]])\n",
    "np.random.randint(0,2,(3,3)) #生成一个3行3列的随机整数数组，范围是[0,2)\n",
    "np.random.choice(5, 3)#在[0,5)里随机选取整数，选3次，，等价于randint(0,5,3)\n",
    "np.random.choice(5, 3, p=[0.1, 0, 0.1, 0.1, 0.7])#p指定每个整数在一次选取中出现的概率，长度应与整数值对应\n"
   ]
  },
  {
   "cell_type": "code",
   "execution_count": null,
   "metadata": {},
   "outputs": [],
   "source": [
    "np.random.choice(5, 4, replace=False)#该参数表示出现的数据不重复，，那么数组长度应小于整数值，相当于np.random.permutation(np.arange(5))[:4]\n",
    "np.random.permutation(5)[:4]\n",
    "arr=np.array(['a','b','c','d'])\n",
    "print(arr)\n",
    "np.random.choice(arr,(2,2),p=[0.1,0.7,0.2,0])#arr只能是一维数组"
   ]
  },
  {
   "cell_type": "code",
   "execution_count": 6,
   "metadata": {},
   "outputs": [
    {
     "name": "stdout",
     "output_type": "stream",
     "text": [
      "[4 3 2 1 0]\n",
      "[[ 0.252978   -1.24609735]\n",
      " [ 0.31283101  0.25609939]\n",
      " [-0.37739239 -1.92641729]\n",
      " [-0.65449801 -0.29887275]]\n",
      "[[ 1.0657003   1.29719586]\n",
      " [-0.24453192 -0.17947344]\n",
      " [ 1.4074108   0.63988504]\n",
      " [-1.0612907   1.08148786]]\n",
      "[5 3 3 4 6 3 4 3 4 3]\n"
     ]
    },
    {
     "data": {
      "text/plain": [
       "array([0.67900653, 4.36583538, 0.44890802, 4.30041622, 2.95014141,\n",
       "       1.82053643])"
      ]
     },
     "execution_count": 6,
     "metadata": {},
     "output_type": "execute_result"
    }
   ],
   "source": [
    "import numpy as np\n",
    "print(np.random.permutation(5))\n",
    "print(np.random.randn(4,2))\n",
    "print(np.random.normal(size=(4,2)))#同上\n",
    "print(np.random.binomial(10, 0.4, size=10))#二项分布，发生事件的概率为p,n次独立试验中成功的次数为结果\n",
    "t=np.random.uniform(0, 1,size=5)#均匀分布\n",
    "np.random.chisquare(3,6)#卡方分布，前面是自由度，后面是size"
   ]
  },
  {
   "cell_type": "markdown",
   "metadata": {},
   "source": [
    "## 筛选元素"
   ]
  },
  {
   "cell_type": "code",
   "execution_count": null,
   "metadata": {},
   "outputs": [],
   "source": [
    "import numpy as np\n",
    "a = np.fix(10*np.random.rand(1,8))\n",
    "print(a)\n",
    "c = (a>=2) & (a<=5)\n",
    "print('c:')\n",
    "print(c)"
   ]
  },
  {
   "cell_type": "code",
   "execution_count": null,
   "metadata": {},
   "outputs": [],
   "source": [
    "t1=np.where((a>=2) & (a<=5))\n",
    "t2=np.nonzero((a>=2) & (a<=5))\n",
    "print(t1)\n",
    "print(type(t1))\n",
    "print(t2)\n",
    "print(type(t2))\n",
    "\n",
    "(a[t1]==a[t2]).all()\n",
    "print(a)"
   ]
  },
  {
   "cell_type": "code",
   "execution_count": null,
   "metadata": {},
   "outputs": [],
   "source": [
    "idx = np.nonzero(a>6)\n",
    "print(idx)\n",
    "t=(a>=2) & (a<=3)\n",
    "print(t)"
   ]
  },
  {
   "cell_type": "code",
   "execution_count": null,
   "metadata": {},
   "outputs": [],
   "source": [
    "import numpy as np\n",
    "a = np.random.rand(3,5)\n",
    "print(a)\n",
    "u = np.mat(a)\n",
    "print('type:',type(u.A))\n",
    "print(u.A)\n",
    "print(u)\n",
    "print(type(u))\n",
    "print(type(u.A))"
   ]
  },
  {
   "cell_type": "markdown",
   "metadata": {},
   "source": [
    "* Python-Numpy中array和matrix的用法\n",
    "\n",
    "https://blog.csdn.net/u010712012/article/details/82817208"
   ]
  },
  {
   "cell_type": "code",
   "execution_count": null,
   "metadata": {},
   "outputs": [],
   "source": []
  }
 ],
 "metadata": {
  "kernelspec": {
   "display_name": "Python 3",
   "language": "python",
   "name": "python3"
  },
  "language_info": {
   "codemirror_mode": {
    "name": "ipython",
    "version": 3
   },
   "file_extension": ".py",
   "mimetype": "text/x-python",
   "name": "python",
   "nbconvert_exporter": "python",
   "pygments_lexer": "ipython3",
   "version": "3.8.5"
  }
 },
 "nbformat": 4,
 "nbformat_minor": 5
}
