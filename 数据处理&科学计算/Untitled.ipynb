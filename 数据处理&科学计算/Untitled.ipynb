{
 "cells": [
  {
   "cell_type": "code",
   "execution_count": 14,
   "metadata": {},
   "outputs": [
    {
     "name": "stdout",
     "output_type": "stream",
     "text": [
      "[[46. 75. 10. 68. 82.]\n",
      " [63. 91. 82. 59. 31.]\n",
      " [74. 11. 88. 23. 61.]\n",
      " [66. 14. 55. 40.  1.]\n",
      " [42. 61. 65. 78. 68.]\n",
      " [ 6. 51. 30. 12.  7.]]\n",
      "<class 'numpy.matrix'>\n",
      "按列\n",
      "{'Amax': matrix([[74., 91., 88., 78., 82.]]), 'Amin': matrix([[ 6., 11., 10., 12.,  1.]]), 'Aave': matrix([[49.5       , 50.5       , 55.        , 46.66666667, 41.66666667]]), 'Asum': matrix([[297., 303., 330., 280., 250.]])}\n",
      "按行\n",
      "{'Amax': matrix([[82.],\n",
      "        [91.],\n",
      "        [88.],\n",
      "        [66.],\n",
      "        [78.],\n",
      "        [51.]]), 'Amin': matrix([[10.],\n",
      "        [31.],\n",
      "        [11.],\n",
      "        [ 1.],\n",
      "        [42.],\n",
      "        [ 6.]]), 'Aave': matrix([[56.2],\n",
      "        [65.2],\n",
      "        [51.4],\n",
      "        [35.2],\n",
      "        [62.8],\n",
      "        [21.2]]), 'Asum': matrix([[281.],\n",
      "        [326.],\n",
      "        [257.],\n",
      "        [176.],\n",
      "        [314.],\n",
      "        [106.]])}\n"
     ]
    }
   ],
   "source": [
    "import numpy as np\n",
    "A = np.mat(np.fix(100*np.random.rand(6,5)))\n",
    "A_max = A.max(axis=0)\n",
    "A_min = A.min(axis=0)\n",
    "A_ave = A.mean(axis=0)\n",
    "A_sum = A.sum(axis=0)\n",
    "A_max2 = A.max(axis=1)\n",
    "A_min2 = A.min(axis=1)\n",
    "A_ave2 = A.mean(axis=1)\n",
    "A_sum2 = A.sum(axis=1)\n",
    "d = {'Amax':A_max,'Amin':A_min,'Aave':A_ave,'Asum':A_sum}\n",
    "d2 = {'Amax':A_max2,'Amin':A_min2,'Aave':A_ave2,'Asum':A_sum2}\n",
    "print(A)\n",
    "print(type(A))\n",
    "print('按列')\n",
    "print(d)\n",
    "print('按行')\n",
    "print(d2)"
   ]
  },
  {
   "cell_type": "code",
   "execution_count": 16,
   "metadata": {},
   "outputs": [
    {
     "name": "stdout",
     "output_type": "stream",
     "text": [
      "[[93. 93. 21. 23. 71.  0. 19. 93. 72. 61.]]\n"
     ]
    }
   ],
   "source": [
    "import numpy as np\n",
    "a = np.fix(100*np.random.rand(1,10))\n",
    "\n",
    "print(a)"
   ]
  },
  {
   "cell_type": "code",
   "execution_count": null,
   "metadata": {},
   "outputs": [],
   "source": []
  }
 ],
 "metadata": {
  "kernelspec": {
   "display_name": "Python 3",
   "language": "python",
   "name": "python3"
  },
  "language_info": {
   "codemirror_mode": {
    "name": "ipython",
    "version": 3
   },
   "file_extension": ".py",
   "mimetype": "text/x-python",
   "name": "python",
   "nbconvert_exporter": "python",
   "pygments_lexer": "ipython3",
   "version": "3.8.5"
  }
 },
 "nbformat": 4,
 "nbformat_minor": 4
}
